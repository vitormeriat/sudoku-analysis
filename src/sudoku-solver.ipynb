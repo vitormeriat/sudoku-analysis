{
 "cells": [
  {
   "cell_type": "code",
   "execution_count": 1,
   "metadata": {},
   "outputs": [],
   "source": [
    "import numpy as np\n",
    "import pandas as pd\n",
    "import matplotlib.pyplot as plt\n",
    "import time"
   ]
  },
  {
   "cell_type": "code",
   "execution_count": 2,
   "metadata": {},
   "outputs": [],
   "source": [
    "def plot_sudoku(n):\n",
    "    # Simple plotting statement that ingests a 9x9 array (n), and plots a sudoku-style grid around it.\n",
    "    plt.figure()\n",
    "    for y in range(10):\n",
    "        plt.plot([-0.05,9.05],[y,y],color='black',linewidth=1)\n",
    "        \n",
    "    for y in range(0,10,3):\n",
    "        plt.plot([-0.05,9.05],[y,y],color='black',linewidth=3)\n",
    "            \n",
    "    for x in range(10):\n",
    "        plt.plot([x,x],[-0.05,9.05],color='black',linewidth=1)\n",
    "    \n",
    "    for x in range(0,10,3):\n",
    "        plt.plot([x,x],[-0.05,9.05],color='black',linewidth=3)\n",
    "\n",
    "    plt.axis('image')\n",
    "    plt.axis('off') # drop the axes, they're not important here\n",
    "\n",
    "    for x in range(9):\n",
    "        for y in range(9):\n",
    "            foo=n[8-y][x] # need to reverse the y-direction for plotting\n",
    "            if foo > 0: # ignore the zeros\n",
    "                T=str(foo)\n",
    "                plt.text(x+0.3,y+0.2,T,fontsize=20)\n",
    "\n",
    "    plt.show()"
   ]
  },
  {
   "cell_type": "code",
   "execution_count": 3,
   "metadata": {},
   "outputs": [
    {
     "data": {
      "image/png": "[encoded data removed]",
      "text/plain": [
       "<Figure size 432x288 with 1 Axes>"
      ]
     },
     "metadata": {
      "needs_background": "light"
     },
     "output_type": "display_data"
    }
   ],
   "source": [
    "sudoku_hard=np.array([[0,0,0,9,0,0,7,2,8],\n",
    "                      [2,7,8,0,0,3,0,1,0],\n",
    "                      [0,9,0,0,0,0,6,4,0],\n",
    "                      [0,5,0,0,6,0,2,0,0],\n",
    "                      [0,0,6,0,0,0,3,0,0],\n",
    "                      [0,1,0,0,5,0,0,0,0],\n",
    "                      [1,0,0,7,0,6,0,3,4],\n",
    "                      [0,0,0,5,0,4,0,0,0],\n",
    "                      [7,0,9,1,0,0,8,0,5]])\n",
    "plot_sudoku(sudoku_hard)"
   ]
  },
  {
   "cell_type": "code",
   "execution_count": 4,
   "metadata": {},
   "outputs": [],
   "source": [
    "def check(i,k,n):\n",
    "    #determines number of unique elements in each row (k=1) or column (k!=1)\n",
    "    nums=np.arange(9)+1\n",
    "    nu=0\n",
    "    for j in range(9):\n",
    "        if k==1:\n",
    "            i1 = n[i][j]-1\n",
    "        else:\n",
    "            i1 = n[j][i]-1\n",
    "\n",
    "        if i1==-1: # Quick check that there are no zeros\n",
    "            return -1\n",
    "        \n",
    "        if nums[i1]!=0:\n",
    "            nu+=1\n",
    "            nums[i1]=0\n",
    "  \n",
    "    return nu"
   ]
  },
  {
   "cell_type": "code",
   "execution_count": 5,
   "metadata": {},
   "outputs": [],
   "source": [
    "def checksq(isq, jsq, n):\n",
    "    # determines number of unique elements in square isq, jsq\n",
    "    nums=np.arange(9)+1\n",
    "    nu = 0\n",
    "    i0 = isq*3\n",
    "    j0 = jsq*3\n",
    "    for i in range(3):\n",
    "        for j in range(3):\n",
    "            i1 = n[i0+i][j0+j] - 1\n",
    "\n",
    "            if i1==-1: # Quick check that there are no zeros\n",
    "                return -1\n",
    "        \n",
    "            if nums[i1]!=0:\n",
    "                nu+=1\n",
    "                nums[i1]=0\n",
    "                \n",
    "    return nu"
   ]
  },
  {
   "cell_type": "code",
   "execution_count": 6,
   "metadata": {},
   "outputs": [],
   "source": [
    "def calc_energy(n):\n",
    "    # computes the \"energy\" of the input grid configuration\n",
    "    sum = 0\n",
    "    for i in range(9):\n",
    "        sum += check(i,1,n) + check(i,2,n)\n",
    "    \n",
    "    for i in range(3):\n",
    "        for j in range(3):\n",
    "            sum += checksq(i,j,n)\n",
    "\n",
    "    return 243 - sum"
   ]
  },
  {
   "cell_type": "code",
   "execution_count": 7,
   "metadata": {},
   "outputs": [],
   "source": [
    "n = sudoku_hard\n",
    "mask = n>0"
   ]
  },
  {
   "cell_type": "code",
   "execution_count": 8,
   "metadata": {},
   "outputs": [
    {
     "data": {
      "image/png": "[encoded data removed]",
      "text/plain": [
       "<Figure size 432x288 with 1 Axes>"
      ]
     },
     "metadata": {
      "needs_background": "light"
     },
     "output_type": "display_data"
    }
   ],
   "source": [
    "# Assign the remaining integers to open cells so that each block contains all integers once only.\n",
    "for ib in range(3):\n",
    "    for jb in range(3):\n",
    "\n",
    "        nums=np.arange(9)+1  #{1,2...8,9}\n",
    "        for i in range(3):\n",
    "            for j in range(3):\n",
    "                i1 = ib*3 + i\n",
    "                j1 = jb*3 + j\n",
    "\n",
    "                if n[i1][j1]!=0:\n",
    "                    ix = n[i1][j1]\n",
    "                    # replace the already used number with 0\n",
    "                    nums[ix-1]=0\n",
    "\n",
    "        # Now we have an array that contains the unused numbers.\n",
    "        # So we populate using that array.\n",
    "        iy = -1\n",
    "        num1=np.zeros(sum(nums>0))\n",
    "        for k in range(9):\n",
    "            if nums[k]!=0:\n",
    "                iy+=1\n",
    "                num1[iy] = nums[k]\n",
    "\n",
    "        kk = 0\n",
    "        for i in range(3):\n",
    "            for j in range(3):\n",
    "                i1 = ib*3 + i\n",
    "                j1 = jb*3 + j\n",
    "                if(n[i1][j1]==0):\n",
    "                    n[i1][j1] = num1[kk]\n",
    "                    kk+=1\n",
    "\n",
    "plot_sudoku(n)"
   ]
  },
  {
   "cell_type": "code",
   "execution_count": 9,
   "metadata": {},
   "outputs": [
    {
     "name": "stdout",
     "output_type": "stream",
     "text": [
      "The system Energy of the initial configuration is: 48\n"
     ]
    }
   ],
   "source": [
    "# What is the energy of our starting position?\n",
    "e_prev = calc_energy(n)\n",
    "print('The system Energy of the initial configuration is:', e_prev) \n",
    "\n",
    "temp = 2.0 # starting temperature\n",
    "ntrial = 100000 # number of trials we are going to run\n",
    "thermo= 0.9 # thermostat for the temperature when it's too hot\n",
    "reanneal=1000 # how often do we apply the thermostat?"
   ]
  },
  {
   "cell_type": "code",
   "execution_count": 10,
   "metadata": {},
   "outputs": [
    {
     "name": "stdout",
     "output_type": "stream",
     "text": [
      "0 0.18887560283756186 48 51\n",
      "5000 0.15233451446920723 27 29\n",
      "10000 0.041310625117916513 10 12\n",
      "15000 0.004531984856175492 6 8\n",
      "20000 0.00010737518133552024 2 4\n",
      "25000 1.89802059279624e-07 2 4\n",
      "Solution found after 26022 steps\n"
     ]
    },
    {
     "data": {
      "image/png": "[encoded data removed]",
      "text/plain": [
       "<Figure size 432x288 with 1 Axes>"
      ]
     },
     "metadata": {
      "needs_background": "light"
     },
     "output_type": "display_data"
    },
    {
     "name": "stdout",
     "output_type": "stream",
     "text": [
      "\n",
      "Execution time:  7.572725296020508\n"
     ]
    }
   ],
   "source": [
    "start = time.time()\n",
    "\n",
    "for ll in range(ntrial):\n",
    "\n",
    "    # at each step pick at random a block and two moveable elements in the block\n",
    "    ib,jb = 3*np.random.randint(3,size=2)\n",
    "\n",
    "    i1,j1 = np.random.randint(3,size=2)\n",
    "    while mask[ib+i1][jb+j1]:\n",
    "        i1,j1 = np.random.randint(3,size=2)\n",
    "\n",
    "    i2,j2 = np.random.randint(3,size=2)\n",
    "    while mask[ib+i2][jb+j2] or (i1==i2 and j1==j2):\n",
    "        i2,j2 = np.random.randint(3,size=2)\n",
    "\n",
    "    # swap the movable elements and compute the energy of the trial configuration\n",
    "    propose_n=n.copy()\n",
    "    propose_n[ib+i1][jb+j1] = n[ib+i2][jb+j2]\n",
    "    propose_n[ib+i2][jb+j2] = n[ib+i1][jb+j1]\n",
    "\n",
    "    # calculate the proposal system energy\n",
    "    e_new = calc_energy(propose_n)\n",
    "    deltaE = e_prev - e_new\n",
    "\n",
    "    # Check the SA criterion\n",
    "    if e_new < e_prev:\n",
    "        e_prev = e_new\n",
    "        n = propose_n\n",
    "    else:\n",
    "        if np.random.rand() < np.exp( float(deltaE)/temp):\n",
    "            e_prev = e_new\n",
    "            n = propose_n\n",
    "\n",
    "    # stop computing if the solution is found\n",
    "    if e_prev==0:\n",
    "        break\n",
    "\n",
    "    if(ll % reanneal) == 0:\n",
    "        temp=temp*thermo\n",
    "        if temp<0.1:\n",
    "            temp=0.5\n",
    "            \n",
    "    # is the code still running properly...?\n",
    "    if(ll % 5000) == 0:\n",
    "        print(ll,np.exp( float(deltaE)/temp),e_prev,e_new) \n",
    "\n",
    "if e_prev==0:\n",
    "    print(\"Solution found after\", ll, \"steps\") \n",
    "    plot_sudoku(n)\n",
    "    \n",
    "end = time.time()\n",
    "print(\"\\nExecution time: \", end - start)"
   ]
  },
  {
   "cell_type": "code",
   "execution_count": null,
   "metadata": {
    "collapsed": true,
    "jupyter": {
     "outputs_hidden": true
    }
   },
   "outputs": [],
   "source": []
  },
  {
   "cell_type": "code",
   "execution_count": null,
   "metadata": {},
   "outputs": [],
   "source": []
  }
 ],
 "metadata": {
  "kernelspec": {
   "display_name": "Python 3",
   "language": "python",
   "name": "python3"
  },
  "language_info": {
   "codemirror_mode": {
    "name": "ipython",
    "version": 3
   },
   "file_extension": ".py",
   "mimetype": "text/x-python",
   "name": "python",
   "nbconvert_exporter": "python",
   "pygments_lexer": "ipython3",
   "version": "3.7.4"
  }
 },
 "nbformat": 4,
 "nbformat_minor": 4
}
